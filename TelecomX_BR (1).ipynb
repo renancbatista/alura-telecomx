{
  "cells": [
    {
      "cell_type": "markdown",
      "id": "ff66ab6f",
      "metadata": {
        "id": "ff66ab6f"
      },
      "source": [
        "# 📊 Análise de Evasão de Clientes (Churn) - Telecom X\n",
        "\n",
        "Notebook simples e direto ao ponto: extração, limpeza, features, EDA, correlação e conclusões."
      ]
    },
    {
      "cell_type": "markdown",
      "id": "bb8f7b86",
      "metadata": {
        "id": "bb8f7b86"
      },
      "source": [
        "## 1) Configuração e Importação"
      ]
    },
    {
      "cell_type": "code",
      "execution_count": null,
      "id": "51f12a09",
      "metadata": {
        "id": "51f12a09"
      },
      "outputs": [],
      "source": [
        "import pandas as pd\n",
        "import requests\n",
        "import matplotlib.pyplot as plt\n",
        "import seaborn as sns\n",
        "\n",
        "sns.set_theme(style='whitegrid')\n",
        "plt.rcParams['figure.dpi'] = 100\n",
        "plt.rcParams['figure.figsize'] = (10, 6)\n",
        "\n",
        "url = 'https://raw.githubusercontent.com/ingridcristh/challenge2-data-science/main/TelecomX_Data.json'\n",
        "resp = requests.get(url, timeout=30)\n",
        "resp.raise_for_status()\n",
        "data = resp.json()\n",
        "df = pd.DataFrame(data)\n",
        "df.head()\n"
      ]
    },
    {
      "cell_type": "markdown",
      "id": "3f22e662",
      "metadata": {
        "id": "3f22e662"
      },
      "source": [
        "## 2) Limpeza e Pré-processamento"
      ]
    },
    {
      "cell_type": "code",
      "execution_count": null,
      "id": "c35f5d2c",
      "metadata": {
        "id": "c35f5d2c"
      },
      "outputs": [],
      "source": [
        "# Desaninhamento de colunas\n",
        "for nested in ['customer', 'phone', 'internet', 'account']:\n",
        "    if nested in df.columns:\n",
        "        norm = pd.json_normalize(df[nested])\n",
        "        df = pd.concat([df.drop(columns=[nested]), norm], axis=1)\n",
        "\n",
        "# Função utilitária para localizar colunas por palavras-chave\n",
        "def find_col(cols, keywords):\n",
        "    for c in cols:\n",
        "        cl = c.lower()\n",
        "        if all(k in cl for k in keywords):\n",
        "            return c\n",
        "    return None\n",
        "\n",
        "col_total = find_col(df.columns, ['total','charge'])\n",
        "col_monthly = find_col(df.columns, ['monthly','charge'])\n",
        "col_tenure = find_col(df.columns, ['tenure'])\n",
        "col_churn = find_col(df.columns, ['churn'])\n",
        "\n",
        "# Tipos e valores ausentes\n",
        "if col_total:\n",
        "    df[col_total] = df[col_total].replace(' ', pd.NA)\n",
        "    df[col_total] = pd.to_numeric(df[col_total], errors='coerce').fillna(0)\n",
        "if col_monthly:\n",
        "    df[col_monthly] = pd.to_numeric(df[col_monthly], errors='coerce')\n",
        "if col_tenure:\n",
        "    df[col_tenure] = pd.to_numeric(df[col_tenure], errors='coerce')\n",
        "if col_churn:\n",
        "    df[col_churn] = df[col_churn].fillna('No')\n",
        "\n",
        "# Padronizar categorias de serviços\n",
        "for cand in ['OnlineSecurity','OnlineBackup','DeviceProtection','TechSupport','StreamingTV','StreamingMovies','MultipleLines','InternetService','PhoneService']:\n",
        "    col = find_col(df.columns, [cand.lower()])\n",
        "    if col and df[col].dtype == 'object':\n",
        "        df[col] = df[col].replace({'No internet service':'No','No phone service':'No'})\n",
        "\n",
        "df.info()\n"
      ]
    },
    {
      "cell_type": "markdown",
      "id": "8b8a2c77",
      "metadata": {
        "id": "8b8a2c77"
      },
      "source": [
        "## 3) Engenharia de Features e Padronização"
      ]
    },
    {
      "cell_type": "code",
      "execution_count": null,
      "id": "37ead410",
      "metadata": {
        "id": "37ead410"
      },
      "outputs": [],
      "source": [
        "# Contas_Diarias\n",
        "if col_monthly:\n",
        "    df['Contas_Diarias'] = (df[col_monthly] / 30).round(2)\n",
        "else:\n",
        "    df['Contas_Diarias'] = 0\n",
        "\n",
        "# Renomear colunas para PT\n",
        "rename_map = {\n",
        "    'customerID':'ID_Cliente','gender':'Genero','SeniorCitizen':'Idoso','Partner':'Parceiro','Dependents':'Dependentes',\n",
        "    'tenure':'TempoContrato','PhoneService':'ServicoTelefone','MultipleLines':'MultiplasLinhas','InternetService':'ServicoInternet',\n",
        "    'OnlineSecurity':'SegurancaOnline','OnlineBackup':'BackupOnline','DeviceProtection':'ProtecaoDispositivo','TechSupport':'SuporteTecnico',\n",
        "    'StreamingTV':'TVStreaming','StreamingMovies':'FilmesStreaming','Contract':'TipoContrato','PaperlessBilling':'FaturaOnline',\n",
        "    'PaymentMethod':'MetodoPagamento','Charges.Monthly':'FaturaMensal','Charges.Total':'FaturaTotal','Churn':'Evasao'\n",
        "}\n",
        "df = df.rename(columns={k:v for k,v in rename_map.items() if k in df.columns})\n",
        "\n",
        "# Binárias Yes/No -> 1/0\n",
        "for col in ['Parceiro','Dependentes','ServicoTelefone','MultiplasLinhas','SegurancaOnline','BackupOnline','ProtecaoDispositivo','SuporteTecnico','TVStreaming','FilmesStreaming','FaturaOnline','Evasao']:\n",
        "    if col in df.columns:\n",
        "        df[col] = df[col].map({'Yes':1,'No':0})\n",
        "\n",
        "# Genero Female/Male -> 1/0\n",
        "if 'Genero' in df.columns:\n",
        "    df['Genero'] = df['Genero'].map({'Female':1,'Male':0})\n",
        "\n",
        "# Traduções simples\n",
        "if 'TipoContrato' in df.columns:\n",
        "    df['TipoContrato'] = df['TipoContrato'].map({'Month-to-month':'Mensal','One year':'Anual','Two year':'Dois anos'})\n",
        "if 'MetodoPagamento' in df.columns:\n",
        "    df['MetodoPagamento'] = df['MetodoPagamento'].map({'Electronic check':'Cheque eletronico','Mailed check':'Cheque enviado','Bank transfer (automatic)':'Transferencia bancaria (automatica)','Credit card (automatic)':'Cartao de credito (automatico)'})\n",
        "if 'ServicoInternet' in df.columns:\n",
        "    df['ServicoInternet'] = df['ServicoInternet'].map({'DSL':'DSL','Fiber optic':'Fibra otica','No':'Sem servico de internet'})\n",
        "\n",
        "df.head()\n"
      ]
    },
    {
      "cell_type": "markdown",
      "id": "7b199af4",
      "metadata": {
        "id": "7b199af4"
      },
      "source": [
        "## 4) EDA rápida (visualizações principais)"
      ]
    },
    {
      "cell_type": "code",
      "execution_count": null,
      "id": "5b363c88",
      "metadata": {
        "id": "5b363c88"
      },
      "outputs": [],
      "source": [
        "# Churn geral\n",
        "ax = df['Evasao'].value_counts().plot.pie(autopct='%1.1f%%', startangle=90, colors=['skyblue','salmon'])\n",
        "ax.set_ylabel('')\n",
        "plt.title('Distribuicao da Evasao (Churn)')\n",
        "plt.show()\n",
        "\n",
        "print('Taxa de evasao geral: {:.2f}%'.format(df['Evasao'].mean()*100))\n",
        "\n",
        "# Por Tipo de Contrato\n",
        "if 'TipoContrato' in df.columns:\n",
        "    sns.barplot(x='TipoContrato', y='Evasao', data=df, palette='viridis')\n",
        "    plt.title('Taxa de Evasao por Tipo de Contrato')\n",
        "    plt.ylabel('Taxa de Evasao')\n",
        "    plt.xlabel('Tipo de Contrato')\n",
        "    plt.show()\n",
        "\n",
        "# Tempo de contrato e Fatura\n",
        "for col in ['TempoContrato','FaturaMensal']:\n",
        "    if col in df.columns:\n",
        "        sns.histplot(data=df, x=col, hue='Evasao', kde=True, palette='coolwarm')\n",
        "        plt.title(f'Distribuicao de {col} por Evasao')\n",
        "        plt.show()\n"
      ]
    },
    {
      "cell_type": "markdown",
      "id": "e65a6c36",
      "metadata": {
        "id": "e65a6c36"
      },
      "source": [
        "## 5) Correlacao (extra)"
      ]
    },
    {
      "cell_type": "code",
      "execution_count": null,
      "id": "ca2ab7ac",
      "metadata": {
        "id": "ca2ab7ac"
      },
      "outputs": [],
      "source": [
        "# Contagem de servicos adicionais\n",
        "serv_cols = ['SegurancaOnline','BackupOnline','ProtecaoDispositivo','SuporteTecnico','TVStreaming','FilmesStreaming','MultiplasLinhas']\n",
        "serv_cols = [c for c in serv_cols if c in df.columns]\n",
        "for c in serv_cols:\n",
        "    df[c] = pd.to_numeric(df[c], errors='coerce').fillna(0).astype(int)\n",
        "if serv_cols:\n",
        "    df['NumServicosAdicionais'] = df[serv_cols].sum(axis=1)\n",
        "\n",
        "num = df.select_dtypes(include=['number'])\n",
        "corr = num.corr()\n",
        "plt.figure(figsize=(12,9))\n",
        "sns.heatmap(corr, cmap='coolwarm', center=0)\n",
        "plt.title('Matriz de Correlacao')\n",
        "plt.show()\n",
        "\n",
        "if 'Evasao' in corr.columns:\n",
        "    print('Correlacoes com Evasao (top):')\n",
        "    print(corr['Evasao'].sort_values(ascending=False).head(10))\n"
      ]
    },
    {
      "cell_type": "markdown",
      "id": "6eac5584",
      "metadata": {
        "id": "6eac5584"
      },
      "source": [
        "## 6) Conclusões (curtas)\n",
        "\n",
        "- Maior risco: clientes com contrato Mensal, pouco tempo de casa e fatura mais alta.\n",
        "- Incentivar planos de 1-2 anos e pagamentos automáticos.\n",
        "- Onboarding forte nos 3 primeiros meses reduz churn."
      ]
    }
  ],
  "metadata": {
    "kernelspec": {
      "display_name": "Python 3",
      "name": "python3"
    },
    "language_info": {
      "name": "python"
    },
    "colab": {
      "provenance": []
    }
  },
  "nbformat": 4,
  "nbformat_minor": 5
}